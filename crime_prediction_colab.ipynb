{
 "cells": [
  {
   "cell_type": "markdown",
   "id": "bbd4d97a",
   "metadata": {},
   "source": [
    "# Crime Count Prediction Workflow\n",
    "This Colab notebook walks through:\n",
    "1. Data inspection (duplicates, missing values, info)\n",
    "2. Visualization of missing data\n",
    "3. Feature engineering & preparation\n",
    "4. Prophet model training on **train.xlsx**\n",
    "5. Monthly crime‑count predictions on **test (2).csv**\n",
    "6. Model evaluation (MAE & RMSE)\n",
    "7. Plotting actual vs. predicted counts\n",
    "\n",
    "---"
   ]
  },
  {
   "cell_type": "markdown",
   "id": "885b7386",
   "metadata": {},
   "source": [
    "## 1  Install Libraries & Import Packages"
   ]
  },
  {
   "cell_type": "code",
   "execution_count": null,
   "id": "9d148449",
   "metadata": {},
   "outputs": [],
   "source": [
    "# Install Prophet and other utilities (quiet install)\n",
    "!pip install prophet seaborn --quiet\n",
    "\n",
    "import pandas as pd\n",
    "import numpy as np\n",
    "import matplotlib.pyplot as plt\n",
    "import seaborn as sns\n",
    "from prophet import Prophet\n",
    "from sklearn.metrics import mean_absolute_error, mean_squared_error\n",
    "from google.colab import files\n"
   ]
  },
  {
   "cell_type": "markdown",
   "id": "b39e4cea",
   "metadata": {},
   "source": [
    "## 2  Upload Datasets\n",
    "Run the next cell and pick **train.xlsx** and **test (2).csv** from your computer."
   ]
  },
  {
   "cell_type": "code",
   "execution_count": null,
   "id": "52501d44",
   "metadata": {},
   "outputs": [],
   "source": [
    "# Upload data files\n",
    "uploaded = files.upload()\n",
    "\n",
    "# Paths after upload\n",
    "train_path = 'train.xlsx'\n",
    "test_path = 'test (2).csv'\n",
    "\n",
    "# Load datasets\n",
    "train_df = pd.read_excel(train_path)\n",
    "test_df  = pd.read_csv(test_path)\n",
    "\n",
    "print(f\"Train shape: {train_df.shape}\")\n",
    "print(f\"Test  shape: {test_df.shape}\")\n"
   ]
  },
  {
   "cell_type": "markdown",
   "id": "b961baf2",
   "metadata": {},
   "source": [
    "## 3  Duplicate‑Row Counts"
   ]
  },
  {
   "cell_type": "code",
   "execution_count": null,
   "id": "605e9013",
   "metadata": {},
   "outputs": [],
   "source": [
    "print(\"Duplicate rows in TRAIN :\", train_df.duplicated().sum())\n",
    "print(\"Duplicate rows in TEST  :\", test_df.duplicated().sum())\n"
   ]
  },
  {
   "cell_type": "markdown",
   "id": "c8af3079",
   "metadata": {},
   "source": [
    "## 4  Missing‑Value Counts"
   ]
  },
  {
   "cell_type": "code",
   "execution_count": null,
   "id": "4f5ef305",
   "metadata": {},
   "outputs": [],
   "source": [
    "print(\"Missing values in TRAIN:\\n\", train_df.isna().sum())\n",
    "print(\"\\nMissing values in TEST:\\n\",  test_df.isna().sum())\n"
   ]
  },
  {
   "cell_type": "markdown",
   "id": "ec60005e",
   "metadata": {},
   "source": [
    "## 5  Visualize Missingness"
   ]
  },
  {
   "cell_type": "code",
   "execution_count": null,
   "id": "b53e4889",
   "metadata": {},
   "outputs": [],
   "source": [
    "plt.figure(figsize=(12,4))\n",
    "sns.heatmap(train_df.isna(), cbar=False)\n",
    "plt.title(\"TRAIN missing values\")\n",
    "plt.show()\n",
    "\n",
    "plt.figure(figsize=(12,4))\n",
    "sns.heatmap(test_df.isna(), cbar=False)\n",
    "plt.title(\"TEST missing values\")\n",
    "plt.show()\n"
   ]
  },
  {
   "cell_type": "markdown",
   "id": "b6878781",
   "metadata": {},
   "source": [
    "## 6  Dataset Info & Summary Stats"
   ]
  },
  {
   "cell_type": "code",
   "execution_count": null,
   "id": "2fb6880e",
   "metadata": {},
   "outputs": [],
   "source": [
    "train_df.info()\n",
    "print(\"\\nColumns:\", train_df.columns.tolist())\n",
    "print(\"\\nDescriptive statistics:\\n\", train_df.describe())\n",
    "\n",
    "print(\"\\nUnique values per column:\")\n",
    "for col in train_df.columns:\n",
    "    print(f\"{col}: {train_df[col].nunique()}\")\n"
   ]
  },
  {
   "cell_type": "markdown",
   "id": "8b341479",
   "metadata": {},
   "source": [
    "## 7  Feature Engineering & Preparation\n",
    "Adapt the column names below if your dataset uses different ones."
   ]
  },
  {
   "cell_type": "code",
   "execution_count": null,
   "id": "95e9945f",
   "metadata": {},
   "outputs": [],
   "source": [
    "# --- TRAIN dataset ---\n",
    "# Assume columns: 'Date' (YYYY-MM-DD) and 'Incident_Counts'\n",
    "train = train_df[['Date', 'Incident_Counts']].copy()\n",
    "train.columns = ['ds', 'y']\n",
    "train['ds'] = pd.to_datetime(train['ds'])\n",
    "\n",
    "# --- TEST dataset ---\n",
    "# If YEAR & MONTH exist, construct a date; else use 'Date'\n",
    "if {'YEAR', 'MONTH'}.issubset(test_df.columns):\n",
    "    test_df['ds'] = pd.to_datetime(test_df['YEAR'].astype(str) + '-' +\n",
    "                                   test_df['MONTH'].astype(str).str.zfill(2) + '-01')\n",
    "elif 'Date' in test_df.columns:\n",
    "    test_df['ds'] = pd.to_datetime(test_df['Date'])\n",
    "\n",
    "# Align target column name\n",
    "if 'Incident_Counts' in test_df.columns:\n",
    "    test_df.rename(columns={'Incident_Counts': 'y'}, inplace=True)\n"
   ]
  },
  {
   "cell_type": "markdown",
   "id": "403995e0",
   "metadata": {},
   "source": [
    "## 8  Model Training with Prophet"
   ]
  },
  {
   "cell_type": "code",
   "execution_count": null,
   "id": "6f0e3203",
   "metadata": {},
   "outputs": [],
   "source": [
    "m = Prophet()\n",
    "m.fit(train)\n"
   ]
  },
  {
   "cell_type": "markdown",
   "id": "3fc91bc4",
   "metadata": {},
   "source": [
    "## 9  Generate Monthly Predictions on Test Set"
   ]
  },
  {
   "cell_type": "code",
   "execution_count": null,
   "id": "62d101b1",
   "metadata": {},
   "outputs": [],
   "source": [
    "future   = test_df[['ds']]  # Prophet expects a 'ds' column\n",
    "forecast = m.predict(future)\n",
    "\n",
    "pred_df = forecast[['ds', 'yhat']].copy()\n"
   ]
  },
  {
   "cell_type": "markdown",
   "id": "496432ab",
   "metadata": {},
   "source": [
    "## 10  Evaluate the Model"
   ]
  },
  {
   "cell_type": "code",
   "execution_count": null,
   "id": "95e66ab8",
   "metadata": {},
   "outputs": [],
   "source": [
    "# Merge actual y from test and predicted yhat\n",
    "evaluation = test_df[['ds', 'y']].merge(pred_df, on='ds', how='left')\n",
    "\n",
    "mae  = mean_absolute_error(evaluation['y'], evaluation['yhat'])\n",
    "rmse = mean_squared_error(evaluation['y'], evaluation['yhat'], squared=False)\n",
    "\n",
    "print(f\"MAE : {mae:.3f}\")\n",
    "print(f\"RMSE: {rmse:.3f}\")\n"
   ]
  },
  {
   "cell_type": "markdown",
   "id": "e3e8e442",
   "metadata": {},
   "source": [
    "## 11  Plot Actual vs. Predicted"
   ]
  },
  {
   "cell_type": "code",
   "execution_count": null,
   "id": "f859c7ca",
   "metadata": {},
   "outputs": [],
   "source": [
    "plt.figure(figsize=(14,6))\n",
    "plt.plot(evaluation['ds'], evaluation['y'],    label='Actual')\n",
    "plt.plot(evaluation['ds'], evaluation['yhat'], label='Predicted')\n",
    "plt.title(\"Monthly Crime Counts: Actual vs. Prophet Prediction\")\n",
    "plt.xlabel(\"Date\")\n",
    "plt.ylabel(\"Incidents\")\n",
    "plt.legend()\n",
    "plt.show()\n"
   ]
  },
  {
   "cell_type": "markdown",
   "id": "65739b66",
   "metadata": {},
   "source": [
    "## 12  Download Predictions"
   ]
  },
  {
   "cell_type": "code",
   "execution_count": null,
   "id": "0a58c65f",
   "metadata": {},
   "outputs": [],
   "source": [
    "evaluation.to_csv('crime_predictions.csv', index=False)\n",
    "files.download('crime_predictions.csv')\n"
   ]
  }
 ],
 "metadata": {},
 "nbformat": 4,
 "nbformat_minor": 5
}
